{
 "cells": [
  {
   "cell_type": "markdown",
   "id": "4b6225b7",
   "metadata": {},
   "source": [
    "# Trabajo Práctico Final - Programación II\n",
    "\n",
    "\n",
    "Apellido y Nombre: Ruiz, Irma Carolina\n",
    "\n",
    "TUIA - Comisión 1"
   ]
  },
  {
   "cell_type": "markdown",
   "id": "dae48272",
   "metadata": {},
   "source": [
    "## Introducción\n",
    "\n",
    "*¿Cómo puede mejorarse el uso de la tarjeta SUBE?*"
   ]
  },
  {
   "cell_type": "markdown",
   "id": "2be13799",
   "metadata": {},
   "source": [
    "En el presente trabajo, se trabajará sobre datos recolectados sobre el uso de la tarjeta SUBE. Según Wikipedia (2023):\n",
    "\n",
    "\"El Sistema Único de Boleto Electrónico, más conocido como SUBE o Tarjeta SUBE, es un sistema implementado en Argentina a partir del año 2011 que permite a cada usuario con su respectiva tarjeta inteligente, abonar los viajes en colectivos, subtes, trenes y desde enero de 2019, las lanchas de Tigre adheridas a la ‘Red SUBE’, tanto en el transporte público del Área Metropolitana de Buenos Aires (AMBA) como en las líneas de colectivos de las siguientes ciudades: Junín, Mar del Plata, Villa Gesell, Partido de La Costa, Pinamar, General Pico, Necochea, Bahía Blanca, Pergamino, Junín (Buenos Aires), Gran Resistencia, Gran Corrientes, Neuquén, Río Grande, Ushuaia, Formosa, Paraná, Santa Fe, San Salvador de Jujuy, San Juan y Mendoza, entre otras.\"\n",
    "\n",
    "Con dicho fin, se establece una situación hipotética en la cual el Ministerio de Transporte quiere decidir si debe aplicar promociones y/o descuentos en el sistema de la tarjeta SUBE, sobre todo fuera de Buenos Aires. Para dicho fin, se utiliza el dataset \"dat-ab-usos-2022\" (\"Cantidad de transacciones SUBE (usos) por día en 2022\"), descargado del sitio www.datos.gob.ar.\n",
    "\n",
    "Por lo anteriormente dicho, el Ministerio tomará decisiones teniendo en cuenta el uso que se hizo de la tarjeta durante el 2022, para promover su uso tanto en temporada vacacional como laboral del 2023. Cabe destacar que si bien se decide enfocar estos cambios en el sistema de colectivos, se tendrá en cuenta otros tipos de transporte, según los resultados obtenidos.\n",
    "\n",
    "A continuación, se demostrarán tres análisis hechos y luego se desarrollarán las conclusiones."
   ]
  },
  {
   "cell_type": "markdown",
   "id": "40a196b0",
   "metadata": {},
   "source": [
    "### Preparación de dataset"
   ]
  },
  {
   "cell_type": "code",
   "execution_count": 2,
   "id": "24c24ee5",
   "metadata": {},
   "outputs": [],
   "source": [
    "import pandas as pd"
   ]
  },
  {
   "cell_type": "code",
   "execution_count": 3,
   "id": "f0b36335",
   "metadata": {},
   "outputs": [
    {
     "data": {
      "text/html": [
       "<div>\n",
       "<style scoped>\n",
       "    .dataframe tbody tr th:only-of-type {\n",
       "        vertical-align: middle;\n",
       "    }\n",
       "\n",
       "    .dataframe tbody tr th {\n",
       "        vertical-align: top;\n",
       "    }\n",
       "\n",
       "    .dataframe thead th {\n",
       "        text-align: right;\n",
       "    }\n",
       "</style>\n",
       "<table border=\"1\" class=\"dataframe\">\n",
       "  <thead>\n",
       "    <tr style=\"text-align: right;\">\n",
       "      <th></th>\n",
       "      <th>DIA_TRANSPORTE</th>\n",
       "      <th>NOMBRE_EMPRESA</th>\n",
       "      <th>LINEA</th>\n",
       "      <th>AMBA</th>\n",
       "      <th>TIPO_TRANSPORTE</th>\n",
       "      <th>JURISDICCION</th>\n",
       "      <th>PROVINCIA</th>\n",
       "      <th>MUNICIPIO</th>\n",
       "      <th>CANTIDAD</th>\n",
       "      <th>DATO_PRELIMINAR</th>\n",
       "    </tr>\n",
       "  </thead>\n",
       "  <tbody>\n",
       "    <tr>\n",
       "      <th>0</th>\n",
       "      <td>2022-01-01</td>\n",
       "      <td>MUNICIPALIDAD DE MERCEDES PROVINCIA DE BUENOS ...</td>\n",
       "      <td>1</td>\n",
       "      <td>SI</td>\n",
       "      <td>COLECTIVO</td>\n",
       "      <td>MUNICIPAL</td>\n",
       "      <td>BUENOS AIRES</td>\n",
       "      <td>MERCEDES</td>\n",
       "      <td>10</td>\n",
       "      <td>NO</td>\n",
       "    </tr>\n",
       "    <tr>\n",
       "      <th>1</th>\n",
       "      <td>2022-01-01</td>\n",
       "      <td>MUNICIPALIDAD DE MERCEDES PROVINCIA DE BUENOS ...</td>\n",
       "      <td>2B</td>\n",
       "      <td>SI</td>\n",
       "      <td>COLECTIVO</td>\n",
       "      <td>MUNICIPAL</td>\n",
       "      <td>BUENOS AIRES</td>\n",
       "      <td>MERCEDES</td>\n",
       "      <td>19</td>\n",
       "      <td>NO</td>\n",
       "    </tr>\n",
       "    <tr>\n",
       "      <th>2</th>\n",
       "      <td>2022-01-01</td>\n",
       "      <td>EMPRESA BATAN S.A.</td>\n",
       "      <td>BS_AS_LINEA 715M</td>\n",
       "      <td>NO</td>\n",
       "      <td>COLECTIVO</td>\n",
       "      <td>MUNICIPAL</td>\n",
       "      <td>BUENOS AIRES</td>\n",
       "      <td>GENERAL PUEYRREDON</td>\n",
       "      <td>1418</td>\n",
       "      <td>NO</td>\n",
       "    </tr>\n",
       "    <tr>\n",
       "      <th>3</th>\n",
       "      <td>2022-01-01</td>\n",
       "      <td>COMPAÑIA  DE TRANSPORTE VECINAL S.A.</td>\n",
       "      <td>BS_AS_LINEA_326</td>\n",
       "      <td>SI</td>\n",
       "      <td>COLECTIVO</td>\n",
       "      <td>PROVINCIAL</td>\n",
       "      <td>BUENOS AIRES</td>\n",
       "      <td>SN</td>\n",
       "      <td>675</td>\n",
       "      <td>NO</td>\n",
       "    </tr>\n",
       "    <tr>\n",
       "      <th>4</th>\n",
       "      <td>2022-01-01</td>\n",
       "      <td>EMPRESA DE TRANSPORTE PERALTA RAMOS SACI</td>\n",
       "      <td>BS_AS_LINEA_512</td>\n",
       "      <td>NO</td>\n",
       "      <td>COLECTIVO</td>\n",
       "      <td>MUNICIPAL</td>\n",
       "      <td>BUENOS AIRES</td>\n",
       "      <td>GENERAL PUEYRREDON</td>\n",
       "      <td>1906</td>\n",
       "      <td>NO</td>\n",
       "    </tr>\n",
       "    <tr>\n",
       "      <th>...</th>\n",
       "      <td>...</td>\n",
       "      <td>...</td>\n",
       "      <td>...</td>\n",
       "      <td>...</td>\n",
       "      <td>...</td>\n",
       "      <td>...</td>\n",
       "      <td>...</td>\n",
       "      <td>...</td>\n",
       "      <td>...</td>\n",
       "      <td>...</td>\n",
       "    </tr>\n",
       "    <tr>\n",
       "      <th>439332</th>\n",
       "      <td>2022-12-31</td>\n",
       "      <td>A T A C O NORTE S A C I</td>\n",
       "      <td>RES_PUERTO_TIROL_Y VIC</td>\n",
       "      <td>NO</td>\n",
       "      <td>COLECTIVO</td>\n",
       "      <td>PROVINCIAL</td>\n",
       "      <td>CHACO</td>\n",
       "      <td>SN</td>\n",
       "      <td>1015</td>\n",
       "      <td>NO</td>\n",
       "    </tr>\n",
       "    <tr>\n",
       "      <th>439333</th>\n",
       "      <td>2022-12-31</td>\n",
       "      <td>ETACER SRL</td>\n",
       "      <td>STAFE_SANTA FE_LINEA_907</td>\n",
       "      <td>NO</td>\n",
       "      <td>COLECTIVO</td>\n",
       "      <td>NACIONAL</td>\n",
       "      <td>JN</td>\n",
       "      <td>SD</td>\n",
       "      <td>807</td>\n",
       "      <td>NO</td>\n",
       "    </tr>\n",
       "    <tr>\n",
       "      <th>439334</th>\n",
       "      <td>2022-12-31</td>\n",
       "      <td>COOP. DE PROVISION DE SERVICIOS 1 DE SEPTIEMBR...</td>\n",
       "      <td>STEFENELLI - LA COSTA</td>\n",
       "      <td>NO</td>\n",
       "      <td>COLECTIVO</td>\n",
       "      <td>MUNICIPAL</td>\n",
       "      <td>RÍO NEGRO</td>\n",
       "      <td>GENERAL ROCA</td>\n",
       "      <td>54</td>\n",
       "      <td>NO</td>\n",
       "    </tr>\n",
       "    <tr>\n",
       "      <th>439335</th>\n",
       "      <td>2022-12-31</td>\n",
       "      <td>TRANSPORTE CASTELLI S.R.L.</td>\n",
       "      <td>TD-02</td>\n",
       "      <td>NO</td>\n",
       "      <td>COLECTIVO</td>\n",
       "      <td>PROVINCIAL</td>\n",
       "      <td>NEUQUÉN</td>\n",
       "      <td>SN</td>\n",
       "      <td>295</td>\n",
       "      <td>NO</td>\n",
       "    </tr>\n",
       "    <tr>\n",
       "      <th>439336</th>\n",
       "      <td>2022-12-31</td>\n",
       "      <td>COOP.DE PROV.DE O.Y S.P.Y C.LAS TONINAS</td>\n",
       "      <td>URBANA DE TRANSPORTE</td>\n",
       "      <td>NO</td>\n",
       "      <td>COLECTIVO</td>\n",
       "      <td>MUNICIPAL</td>\n",
       "      <td>BUENOS AIRES</td>\n",
       "      <td>URBANO DE LA COSTA</td>\n",
       "      <td>1518</td>\n",
       "      <td>NO</td>\n",
       "    </tr>\n",
       "  </tbody>\n",
       "</table>\n",
       "<p>439337 rows × 10 columns</p>\n",
       "</div>"
      ],
      "text/plain": [
       "       DIA_TRANSPORTE                                     NOMBRE_EMPRESA  \\\n",
       "0          2022-01-01  MUNICIPALIDAD DE MERCEDES PROVINCIA DE BUENOS ...   \n",
       "1          2022-01-01  MUNICIPALIDAD DE MERCEDES PROVINCIA DE BUENOS ...   \n",
       "2          2022-01-01                                 EMPRESA BATAN S.A.   \n",
       "3          2022-01-01               COMPAÑIA  DE TRANSPORTE VECINAL S.A.   \n",
       "4          2022-01-01           EMPRESA DE TRANSPORTE PERALTA RAMOS SACI   \n",
       "...               ...                                                ...   \n",
       "439332     2022-12-31                            A T A C O NORTE S A C I   \n",
       "439333     2022-12-31                                         ETACER SRL   \n",
       "439334     2022-12-31  COOP. DE PROVISION DE SERVICIOS 1 DE SEPTIEMBR...   \n",
       "439335     2022-12-31                         TRANSPORTE CASTELLI S.R.L.   \n",
       "439336     2022-12-31            COOP.DE PROV.DE O.Y S.P.Y C.LAS TONINAS   \n",
       "\n",
       "                           LINEA AMBA TIPO_TRANSPORTE JURISDICCION  \\\n",
       "0                              1   SI       COLECTIVO    MUNICIPAL   \n",
       "1                             2B   SI       COLECTIVO    MUNICIPAL   \n",
       "2               BS_AS_LINEA 715M   NO       COLECTIVO    MUNICIPAL   \n",
       "3                BS_AS_LINEA_326   SI       COLECTIVO   PROVINCIAL   \n",
       "4                BS_AS_LINEA_512   NO       COLECTIVO    MUNICIPAL   \n",
       "...                          ...  ...             ...          ...   \n",
       "439332    RES_PUERTO_TIROL_Y VIC   NO       COLECTIVO   PROVINCIAL   \n",
       "439333  STAFE_SANTA FE_LINEA_907   NO       COLECTIVO     NACIONAL   \n",
       "439334     STEFENELLI - LA COSTA   NO       COLECTIVO    MUNICIPAL   \n",
       "439335                     TD-02   NO       COLECTIVO   PROVINCIAL   \n",
       "439336      URBANA DE TRANSPORTE   NO       COLECTIVO    MUNICIPAL   \n",
       "\n",
       "           PROVINCIA           MUNICIPIO  CANTIDAD DATO_PRELIMINAR  \n",
       "0       BUENOS AIRES            MERCEDES        10              NO  \n",
       "1       BUENOS AIRES            MERCEDES        19              NO  \n",
       "2       BUENOS AIRES  GENERAL PUEYRREDON      1418              NO  \n",
       "3       BUENOS AIRES                  SN       675              NO  \n",
       "4       BUENOS AIRES  GENERAL PUEYRREDON      1906              NO  \n",
       "...              ...                 ...       ...             ...  \n",
       "439332         CHACO                  SN      1015              NO  \n",
       "439333            JN                  SD       807              NO  \n",
       "439334     RÍO NEGRO        GENERAL ROCA        54              NO  \n",
       "439335       NEUQUÉN                  SN       295              NO  \n",
       "439336  BUENOS AIRES  URBANO DE LA COSTA      1518              NO  \n",
       "\n",
       "[439337 rows x 10 columns]"
      ]
     },
     "execution_count": 3,
     "metadata": {},
     "output_type": "execute_result"
    }
   ],
   "source": [
    "data = pd.read_csv('dat-ab-usos-2022.csv')\n",
    "data"
   ]
  },
  {
   "cell_type": "markdown",
   "id": "faf5a02f",
   "metadata": {},
   "source": [
    "## Desarrollo"
   ]
  },
  {
   "cell_type": "markdown",
   "id": "77c9c767",
   "metadata": {},
   "source": [
    "### **1° análisis: Diez líneas y municipios que más usan la tarjeta fuera de Buenos Aires**"
   ]
  },
  {
   "cell_type": "code",
   "execution_count": 4,
   "id": "6dabd95f",
   "metadata": {},
   "outputs": [
    {
     "data": {
      "text/html": [
       "<div>\n",
       "<style scoped>\n",
       "    .dataframe tbody tr th:only-of-type {\n",
       "        vertical-align: middle;\n",
       "    }\n",
       "\n",
       "    .dataframe tbody tr th {\n",
       "        vertical-align: top;\n",
       "    }\n",
       "\n",
       "    .dataframe thead th {\n",
       "        text-align: right;\n",
       "    }\n",
       "</style>\n",
       "<table border=\"1\" class=\"dataframe\">\n",
       "  <thead>\n",
       "    <tr style=\"text-align: right;\">\n",
       "      <th></th>\n",
       "      <th></th>\n",
       "      <th></th>\n",
       "      <th>CANTIDAD</th>\n",
       "    </tr>\n",
       "    <tr>\n",
       "      <th>LINEA</th>\n",
       "      <th>MUNICIPIO</th>\n",
       "      <th>PROVINCIA</th>\n",
       "      <th></th>\n",
       "    </tr>\n",
       "  </thead>\n",
       "  <tbody>\n",
       "    <tr>\n",
       "      <th>INTERURB DE TRANSP-SERV.DIFERENCIAL</th>\n",
       "      <th>SN</th>\n",
       "      <th>CHUBUT</th>\n",
       "      <td>269530</td>\n",
       "    </tr>\n",
       "    <tr>\n",
       "      <th>LINEA 01</th>\n",
       "      <th>RECONQUISTA</th>\n",
       "      <th>SANTA FE</th>\n",
       "      <td>159059</td>\n",
       "    </tr>\n",
       "    <tr>\n",
       "      <th>LINEA 02</th>\n",
       "      <th>RECONQUISTA</th>\n",
       "      <th>SANTA FE</th>\n",
       "      <td>47914</td>\n",
       "    </tr>\n",
       "    <tr>\n",
       "      <th>BARRIO NUEVO</th>\n",
       "      <th>GENERAL ROCA</th>\n",
       "      <th>RÍO NEGRO</th>\n",
       "      <td>19260</td>\n",
       "    </tr>\n",
       "    <tr>\n",
       "      <th>LINEA 04</th>\n",
       "      <th>RECONQUISTA</th>\n",
       "      <th>SANTA FE</th>\n",
       "      <td>14834</td>\n",
       "    </tr>\n",
       "    <tr>\n",
       "      <th>LINEA 03</th>\n",
       "      <th>RECONQUISTA</th>\n",
       "      <th>SANTA FE</th>\n",
       "      <td>14332</td>\n",
       "    </tr>\n",
       "    <tr>\n",
       "      <th>J.J. GOMEZ - ALTA BARDA</th>\n",
       "      <th>GENERAL ROCA</th>\n",
       "      <th>RÍO NEGRO</th>\n",
       "      <td>13453</td>\n",
       "    </tr>\n",
       "    <tr>\n",
       "      <th>CHACRA MONTE - PAISSANIDIS</th>\n",
       "      <th>GENERAL ROCA</th>\n",
       "      <th>RÍO NEGRO</th>\n",
       "      <td>8137</td>\n",
       "    </tr>\n",
       "    <tr>\n",
       "      <th>ISLAS MALVINAS - PUENTE CERO</th>\n",
       "      <th>GENERAL ROCA</th>\n",
       "      <th>RÍO NEGRO</th>\n",
       "      <td>6370</td>\n",
       "    </tr>\n",
       "    <tr>\n",
       "      <th>AEROCLUB - 140 VIV.</th>\n",
       "      <th>GENERAL ROCA</th>\n",
       "      <th>RÍO NEGRO</th>\n",
       "      <td>4164</td>\n",
       "    </tr>\n",
       "  </tbody>\n",
       "</table>\n",
       "</div>"
      ],
      "text/plain": [
       "                                                            CANTIDAD\n",
       "LINEA                               MUNICIPIO    PROVINCIA          \n",
       "INTERURB DE TRANSP-SERV.DIFERENCIAL SN           CHUBUT       269530\n",
       "LINEA 01                            RECONQUISTA  SANTA FE     159059\n",
       "LINEA 02                            RECONQUISTA  SANTA FE      47914\n",
       "BARRIO NUEVO                        GENERAL ROCA RÍO NEGRO     19260\n",
       "LINEA 04                            RECONQUISTA  SANTA FE      14834\n",
       "LINEA 03                            RECONQUISTA  SANTA FE      14332\n",
       "J.J. GOMEZ - ALTA BARDA             GENERAL ROCA RÍO NEGRO     13453\n",
       "CHACRA MONTE - PAISSANIDIS          GENERAL ROCA RÍO NEGRO      8137\n",
       "ISLAS MALVINAS - PUENTE CERO        GENERAL ROCA RÍO NEGRO      6370\n",
       "AEROCLUB - 140 VIV.                 GENERAL ROCA RÍO NEGRO      4164"
      ]
     },
     "execution_count": 4,
     "metadata": {},
     "output_type": "execute_result"
    }
   ],
   "source": [
    "info1 = data[(data['CANTIDAD']!=0)&(data['PROVINCIA']!='BUENOS AIRES')&(data['TIPO_TRANSPORTE']=='COLECTIVO')&(~data['LINEA'].str.contains('BSAS_LINEA_|BS_ASLINEA_'))]\n",
    "info1b = info1.groupby(['LINEA', 'MUNICIPIO', 'PROVINCIA']).sum().head(10)\n",
    "a = info1b.sort_values(by=\"CANTIDAD\", ascending=False)\n",
    "a"
   ]
  },
  {
   "cell_type": "markdown",
   "id": "9c862f76",
   "metadata": {},
   "source": [
    "### **2° análisis: Empresas que menos consumo tienen con jurisdicción nacional**"
   ]
  },
  {
   "cell_type": "code",
   "execution_count": 5,
   "id": "833fdda4",
   "metadata": {
    "scrolled": true
   },
   "outputs": [
    {
     "data": {
      "text/html": [
       "<div>\n",
       "<style scoped>\n",
       "    .dataframe tbody tr th:only-of-type {\n",
       "        vertical-align: middle;\n",
       "    }\n",
       "\n",
       "    .dataframe tbody tr th {\n",
       "        vertical-align: top;\n",
       "    }\n",
       "\n",
       "    .dataframe thead th {\n",
       "        text-align: right;\n",
       "    }\n",
       "</style>\n",
       "<table border=\"1\" class=\"dataframe\">\n",
       "  <thead>\n",
       "    <tr style=\"text-align: right;\">\n",
       "      <th></th>\n",
       "      <th></th>\n",
       "      <th></th>\n",
       "      <th>CANTIDAD</th>\n",
       "    </tr>\n",
       "    <tr>\n",
       "      <th>NOMBRE_EMPRESA</th>\n",
       "      <th>JURISDICCION</th>\n",
       "      <th>PROVINCIA</th>\n",
       "      <th></th>\n",
       "    </tr>\n",
       "  </thead>\n",
       "  <tbody>\n",
       "    <tr>\n",
       "      <th>AZUL S.A. DE TRANSPORTE AUTOMOTOR</th>\n",
       "      <th>NACIONAL</th>\n",
       "      <th>JN</th>\n",
       "      <td>5</td>\n",
       "    </tr>\n",
       "    <tr>\n",
       "      <th>EMPRESA RIO URUGUAY SRL</th>\n",
       "      <th>NACIONAL</th>\n",
       "      <th>JN</th>\n",
       "      <td>24</td>\n",
       "    </tr>\n",
       "  </tbody>\n",
       "</table>\n",
       "</div>"
      ],
      "text/plain": [
       "                                                          CANTIDAD\n",
       "NOMBRE_EMPRESA                    JURISDICCION PROVINCIA          \n",
       "AZUL S.A. DE TRANSPORTE AUTOMOTOR NACIONAL     JN                5\n",
       "EMPRESA RIO URUGUAY SRL           NACIONAL     JN               24"
      ]
     },
     "execution_count": 5,
     "metadata": {},
     "output_type": "execute_result"
    }
   ],
   "source": [
    "info2 = data[(data['TIPO_TRANSPORTE']=='COLECTIVO')&(data['JURISDICCION']=='NACIONAL')&(data['PROVINCIA']=='JN')&(data['CANTIDAD']<=5)]\n",
    "info2b = info2.groupby(['NOMBRE_EMPRESA','JURISDICCION', 'PROVINCIA']).sum()\n",
    "b = info2b.sort_values(by=\"CANTIDAD\", ascending=True)\n",
    "b"
   ]
  },
  {
   "cell_type": "markdown",
   "id": "fe4ebe77",
   "metadata": {},
   "source": [
    "### **3° análisis: Dos tipos de transportes (no colectivos) más usados durante época de vacaciones (enero y julio)**"
   ]
  },
  {
   "cell_type": "code",
   "execution_count": 6,
   "id": "804962b9",
   "metadata": {},
   "outputs": [
    {
     "data": {
      "text/html": [
       "<div>\n",
       "<style scoped>\n",
       "    .dataframe tbody tr th:only-of-type {\n",
       "        vertical-align: middle;\n",
       "    }\n",
       "\n",
       "    .dataframe tbody tr th {\n",
       "        vertical-align: top;\n",
       "    }\n",
       "\n",
       "    .dataframe thead th {\n",
       "        text-align: right;\n",
       "    }\n",
       "</style>\n",
       "<table border=\"1\" class=\"dataframe\">\n",
       "  <thead>\n",
       "    <tr style=\"text-align: right;\">\n",
       "      <th></th>\n",
       "      <th></th>\n",
       "      <th></th>\n",
       "      <th>CANTIDAD</th>\n",
       "    </tr>\n",
       "    <tr>\n",
       "      <th>TIPO_TRANSPORTE</th>\n",
       "      <th>DIA_TRANSPORTE</th>\n",
       "      <th>PROVINCIA</th>\n",
       "      <th></th>\n",
       "    </tr>\n",
       "  </thead>\n",
       "  <tbody>\n",
       "    <tr>\n",
       "      <th rowspan=\"5\" valign=\"top\">TREN</th>\n",
       "      <th>2022-12-22</th>\n",
       "      <th>JN</th>\n",
       "      <td>1312134</td>\n",
       "    </tr>\n",
       "    <tr>\n",
       "      <th>2022-12-02</th>\n",
       "      <th>JN</th>\n",
       "      <td>1311282</td>\n",
       "    </tr>\n",
       "    <tr>\n",
       "      <th>2022-12-16</th>\n",
       "      <th>JN</th>\n",
       "      <td>1283573</td>\n",
       "    </tr>\n",
       "    <tr>\n",
       "      <th>2022-07-14</th>\n",
       "      <th>JN</th>\n",
       "      <td>1272426</td>\n",
       "    </tr>\n",
       "    <tr>\n",
       "      <th>2022-12-21</th>\n",
       "      <th>JN</th>\n",
       "      <td>1259470</td>\n",
       "    </tr>\n",
       "    <tr>\n",
       "      <th>...</th>\n",
       "      <th>...</th>\n",
       "      <th>...</th>\n",
       "      <td>...</td>\n",
       "    </tr>\n",
       "    <tr>\n",
       "      <th rowspan=\"5\" valign=\"top\">LANCHAS</th>\n",
       "      <th>2022-07-02</th>\n",
       "      <th>BUENOS AIRES</th>\n",
       "      <td>18</td>\n",
       "    </tr>\n",
       "    <tr>\n",
       "      <th>2022-07-31</th>\n",
       "      <th>BUENOS AIRES</th>\n",
       "      <td>17</td>\n",
       "    </tr>\n",
       "    <tr>\n",
       "      <th>2022-07-25</th>\n",
       "      <th>BUENOS AIRES</th>\n",
       "      <td>16</td>\n",
       "    </tr>\n",
       "    <tr>\n",
       "      <th>2022-12-18</th>\n",
       "      <th>BUENOS AIRES</th>\n",
       "      <td>16</td>\n",
       "    </tr>\n",
       "    <tr>\n",
       "      <th>2022-07-03</th>\n",
       "      <th>BUENOS AIRES</th>\n",
       "      <td>9</td>\n",
       "    </tr>\n",
       "  </tbody>\n",
       "</table>\n",
       "<p>121 rows × 1 columns</p>\n",
       "</div>"
      ],
      "text/plain": [
       "                                             CANTIDAD\n",
       "TIPO_TRANSPORTE DIA_TRANSPORTE PROVINCIA             \n",
       "TREN            2022-12-22     JN             1312134\n",
       "                2022-12-02     JN             1311282\n",
       "                2022-12-16     JN             1283573\n",
       "                2022-07-14     JN             1272426\n",
       "                2022-12-21     JN             1259470\n",
       "...                                               ...\n",
       "LANCHAS         2022-07-02     BUENOS AIRES        18\n",
       "                2022-07-31     BUENOS AIRES        17\n",
       "                2022-07-25     BUENOS AIRES        16\n",
       "                2022-12-18     BUENOS AIRES        16\n",
       "                2022-07-03     BUENOS AIRES         9\n",
       "\n",
       "[121 rows x 1 columns]"
      ]
     },
     "execution_count": 6,
     "metadata": {},
     "output_type": "execute_result"
    }
   ],
   "source": [
    "info3 = data[(data['TIPO_TRANSPORTE']!='COLECTIVO')&(data['CANTIDAD']>0)&(data['DIA_TRANSPORTE'].str.contains('2022-07|2022-12'))&(data['PROVINCIA'].notnull())]\n",
    "info3b = info3.groupby(['TIPO_TRANSPORTE', 'DIA_TRANSPORTE', 'PROVINCIA']).sum()\n",
    "info3c = info3b.sort_values(by=\"CANTIDAD\", ascending=False)\n",
    "info3c"
   ]
  },
  {
   "cell_type": "code",
   "execution_count": 7,
   "id": "9af3277e",
   "metadata": {},
   "outputs": [
    {
     "data": {
      "text/plain": [
       "TIPO_TRANSPORTE\n",
       "TREN       55818815\n",
       "LANCHAS        2218\n",
       "Name: CANTIDAD, dtype: int64"
      ]
     },
     "execution_count": 7,
     "metadata": {},
     "output_type": "execute_result"
    }
   ],
   "source": [
    "c = info3c['CANTIDAD'].groupby(['TIPO_TRANSPORTE']).sum().sort_values(ascending=False)\n",
    "c"
   ]
  },
  {
   "cell_type": "markdown",
   "id": "2e4173f9",
   "metadata": {},
   "source": [
    "### Gráficos y conclusiones"
   ]
  },
  {
   "cell_type": "code",
   "execution_count": 8,
   "id": "5167cba9",
   "metadata": {},
   "outputs": [],
   "source": [
    "import matplotlib.pyplot as plt\n",
    "import numpy as np\n",
    "\n",
    "def grafico_barras(titulo, titulo_x, titulo_y, etiquetas_x, datos_y, angulo, tamaño):\n",
    "    plt.figure(figsize=tamaño)   # dimensiones del gráfico\n",
    "    plt.xticks(rotation=angulo,fontsize=15);\n",
    "    plt.yticks(fontsize=15);               \n",
    "    plt.xlabel(titulo_x,fontsize=15) \n",
    "    plt.ylabel(titulo_y,fontsize=15)\n",
    "    plt.title(titulo,fontsize=20)                    \n",
    "    plt.bar(etiquetas_x,datos_y)\n",
    "\n",
    "def grafico_torta(titulo, etiquetas, valores, tamaño):\n",
    "  plt.figure(figsize = tamaño)\n",
    "  plt.title(titulo,fontsize=20)\n",
    "  plt.pie(valores, labels  = etiquetas, autopct = \"%0.1f %%\") #autopct=\"%0.1f %%\" -> los porcentajes dentro de cada parte"
   ]
  },
  {
   "cell_type": "markdown",
   "id": "7ab503b9",
   "metadata": {},
   "source": [
    "Teniendo en cuenta el primer análisis, se puede observar que las provincias que tienen más lineas y municipios que usan la tarjeta SUBE son Chubut, Santa Fe y Río Negro. Estos resultados son a nivel anual, por lo que el Ministerio decidirá invertir en las diez líneas señaladas (repetidas en el siguiente gráfico) para que aumente la cantidad de unidades, así como realizar nuevos análisis en el futuro próximo para implementar descuentos a estudiantes, jubilados, etc."
   ]
  },
  {
   "cell_type": "code",
   "execution_count": 15,
   "id": "1a0d75b2",
   "metadata": {},
   "outputs": [
    {
     "data": {
      "image/png": "[encoded data removed]",
      "text/plain": [
       "<Figure size 576x576 with 1 Axes>"
      ]
     },
     "metadata": {
      "needs_background": "light"
     },
     "output_type": "display_data"
    }
   ],
   "source": [
    "x_labels = ['INTERURB DE TRANSP-SERV.DIFERENCIAL', 'LINEA 01', 'LINEA 02', 'BARRIO NUEVO', 'LINEA 04', 'LINEA 03', 'J.J. GOMEZ-ALTA BARDA', 'CHACRA MONTE-PAISSANIDIS', 'ISLAS MALVINAS-PUENTE CERO', 'AEROCLUB-140 VIV.']\n",
    "y = pd.Series(a['CANTIDAD'])\n",
    "y_data = list(y)\n",
    "grafico_barras('Diez líneas y municipios que más usan la tarjeta fuera de Buenos Aires', 'Líneas', 'Uso de tarjeta', x_labels, y_data, angulo=90, tamaño = (8,8))"
   ]
  },
  {
   "cell_type": "markdown",
   "id": "bd22ed82",
   "metadata": {},
   "source": [
    "Por otro lado, a través del segundo análisis se detectaron dos empresas que no fueron muy usadas durante el 2022. Debido a que ambas tienen jurisdicción nacional, el Ministerio evaluará sus recorridos y, en caso de que viajen por lugares clave para el desarrollo económico, evaluarán descuentos y/o cambios en el recorrido (o fuisón entre ambos) para fomentar su uso."
   ]
  },
  {
   "cell_type": "code",
   "execution_count": 22,
   "id": "8f384fbf",
   "metadata": {},
   "outputs": [
    {
     "data": {
      "image/png": "[encoded data removed]",
      "text/plain": [
       "<Figure size 576x576 with 1 Axes>"
      ]
     },
     "metadata": {},
     "output_type": "display_data"
    }
   ],
   "source": [
    "labels = ['AZUL S.A. DE TRANSPORTE AUTOMOTOR', 'EMPRESA RIO URUGUAY SRL']\n",
    "cantidades = [5, 24]\n",
    "grafico_torta('Empresas que menos consumo tienen con jurisdicción nacional', labels, cantidades,tamaño=(8,8))"
   ]
  },
  {
   "cell_type": "markdown",
   "id": "2fca20f0",
   "metadata": {},
   "source": [
    "Finalmente, el tercer análisis determina que la tarjeta se usa mucho para acceder a trenes y lanchas. Esto ocurrió en la temporada vacacional (julio y diciembre) del 2022, por lo que se espera que el presente año también ocurra. Asimismo, se observa que los trenes obtuvieron muchos más usos que las lanchas. Por estas razones, se decidirá aplicar descuentos a familias numerosas y jubilados durante las vacaciones para que el uso de trenes se mantenga (o supere) a nivel nacional. Por otro lado, en la provincia de Buenos Aires se desarrollarán promociones para que las lanchas tengan más uso sobre todo en la temporada de verano, y así también fomentar el turismo relacionado al río."
   ]
  },
  {
   "cell_type": "code",
   "execution_count": 24,
   "id": "7e692ff0",
   "metadata": {},
   "outputs": [
    {
     "data": {
      "image/png": "[encoded data removed]",
      "text/plain": [
       "<Figure size 360x360 with 1 Axes>"
      ]
     },
     "metadata": {
      "needs_background": "light"
     },
     "output_type": "display_data"
    }
   ],
   "source": [
    "x_labels2 = ['TRENES', 'LANCHAS']\n",
    "y_data2 = [c[0], c[1]]\n",
    "grafico_barras('Dos tipos de transportes (no colectivos) más usados durante vacaciones', 'Transporte', 'Uso de tarjeta (en millones)', x_labels2, y_data2, angulo=30, tamaño = (5,5))"
   ]
  },
  {
   "cell_type": "markdown",
   "id": "53efb275",
   "metadata": {},
   "source": [
    "### Fuentes"
   ]
  },
  {
   "cell_type": "markdown",
   "id": "ccb471bf",
   "metadata": {},
   "source": [
    "Sobre el Sistema SUBE:\n",
    "https://es.wikipedia.org/wiki/Sistema_%C3%9Anico_de_Boleto_Electr%C3%B3nico\n",
    "\n",
    "Archivo csv:\n",
    "https://www.datos.gob.ar/dataset/transporte-sube---cantidad-transacciones-usos-por-fecha/archivo/transporte_93410ab1-88df-457a-8e24-262d41211f9c"
   ]
  }
 ],
 "metadata": {
  "kernelspec": {
   "display_name": "Python 3 (ipykernel)",
   "language": "python",
   "name": "python3"
  },
  "language_info": {
   "codemirror_mode": {
    "name": "ipython",
    "version": 3
   },
   "file_extension": ".py",
   "mimetype": "text/x-python",
   "name": "python",
   "nbconvert_exporter": "python",
   "pygments_lexer": "ipython3",
   "version": "3.9.12"
  }
 },
 "nbformat": 4,
 "nbformat_minor": 5
}
